{
 "cells": [
  {
   "cell_type": "markdown",
   "id": "0f34dc37",
   "metadata": {},
   "source": [
    "# Import all the required libraries"
   ]
  },
  {
   "cell_type": "code",
   "execution_count": 1,
   "id": "24696a42",
   "metadata": {},
   "outputs": [],
   "source": [
    "import numpy as np\n",
    "import pandas as pd\n",
    "import seaborn as sns\n",
    "import dtale\n",
    "from tensorflow.keras.utils import load_img\n",
    "from tensorflow.keras.utils import img_to_array\n",
    "from matplotlib.image import imread\n",
    "from numpy import asarray\n",
    "from keras.preprocessing.image import ImageDataGenerator\n",
    "from tensorflow.keras.utils import to_categorical\n",
    "from sklearn.model_selection import train_test_split\n",
    "from tensorflow.python.ops.math_ops import arg_max\n",
    "import matplotlib.pyplot as plt\n",
    "import random\n",
    "import os"
   ]
  },
  {
   "cell_type": "markdown",
   "id": "bc0d5b28",
   "metadata": {},
   "source": [
    "# Defining the Image and Batch size."
   ]
  },
  {
   "cell_type": "code",
   "execution_count": 2,
   "id": "3e5dc5f6",
   "metadata": {},
   "outputs": [],
   "source": [
    "Image_Width = 224\n",
    "Image_Height = 224\n",
    "Image_Size = (Image_Width,Image_Height)\n",
    "Image_Channels = 3\n",
    "batch_size = 32"
   ]
  },
  {
   "cell_type": "markdown",
   "id": "3ea9827a",
   "metadata": {},
   "source": [
    "# Read images and convert into a data frame."
   ]
  },
  {
   "cell_type": "code",
   "execution_count": 3,
   "id": "4b1dfb43",
   "metadata": {},
   "outputs": [],
   "source": [
    "filenames=os.listdir(\"train\")\n",
    "categories=[]\n",
    "for f_name in filenames:\n",
    "    category=f_name.split('.')[0]\n",
    "    if category=='dog':\n",
    "        categories.append(1)\n",
    "    else:\n",
    "        categories.append(0)\n",
    "df=pd.DataFrame({\n",
    "    'filename':filenames,\n",
    "    'category':categories\n",
    "})"
   ]
  },
  {
   "cell_type": "code",
   "execution_count": 44,
   "id": "733c95d7",
   "metadata": {
    "scrolled": false
   },
   "outputs": [
    {
     "data": {
      "text/html": [
       "<div>\n",
       "<style scoped>\n",
       "    .dataframe tbody tr th:only-of-type {\n",
       "        vertical-align: middle;\n",
       "    }\n",
       "\n",
       "    .dataframe tbody tr th {\n",
       "        vertical-align: top;\n",
       "    }\n",
       "\n",
       "    .dataframe thead th {\n",
       "        text-align: right;\n",
       "    }\n",
       "</style>\n",
       "<table border=\"1\" class=\"dataframe\">\n",
       "  <thead>\n",
       "    <tr style=\"text-align: right;\">\n",
       "      <th></th>\n",
       "      <th>filename</th>\n",
       "      <th>category</th>\n",
       "    </tr>\n",
       "  </thead>\n",
       "  <tbody>\n",
       "    <tr>\n",
       "      <th>0</th>\n",
       "      <td>cat.11967.jpg</td>\n",
       "      <td>cat</td>\n",
       "    </tr>\n",
       "    <tr>\n",
       "      <th>1</th>\n",
       "      <td>dog.9761.jpg</td>\n",
       "      <td>dog</td>\n",
       "    </tr>\n",
       "    <tr>\n",
       "      <th>2</th>\n",
       "      <td>dog.2398.jpg</td>\n",
       "      <td>dog</td>\n",
       "    </tr>\n",
       "    <tr>\n",
       "      <th>3</th>\n",
       "      <td>dog.9612.jpg</td>\n",
       "      <td>dog</td>\n",
       "    </tr>\n",
       "    <tr>\n",
       "      <th>4</th>\n",
       "      <td>dog.6992.jpg</td>\n",
       "      <td>dog</td>\n",
       "    </tr>\n",
       "    <tr>\n",
       "      <th>...</th>\n",
       "      <td>...</td>\n",
       "      <td>...</td>\n",
       "    </tr>\n",
       "    <tr>\n",
       "      <th>24995</th>\n",
       "      <td>dog.7390.jpg</td>\n",
       "      <td>dog</td>\n",
       "    </tr>\n",
       "    <tr>\n",
       "      <th>24996</th>\n",
       "      <td>dog.155.jpg</td>\n",
       "      <td>dog</td>\n",
       "    </tr>\n",
       "    <tr>\n",
       "      <th>24997</th>\n",
       "      <td>dog.4236.jpg</td>\n",
       "      <td>dog</td>\n",
       "    </tr>\n",
       "    <tr>\n",
       "      <th>24998</th>\n",
       "      <td>cat.12092.jpg</td>\n",
       "      <td>cat</td>\n",
       "    </tr>\n",
       "    <tr>\n",
       "      <th>24999</th>\n",
       "      <td>cat.3357.jpg</td>\n",
       "      <td>cat</td>\n",
       "    </tr>\n",
       "  </tbody>\n",
       "</table>\n",
       "<p>25000 rows × 2 columns</p>\n",
       "</div>"
      ],
      "text/plain": [
       "            filename category\n",
       "0      cat.11967.jpg      cat\n",
       "1       dog.9761.jpg      dog\n",
       "2       dog.2398.jpg      dog\n",
       "3       dog.9612.jpg      dog\n",
       "4       dog.6992.jpg      dog\n",
       "...              ...      ...\n",
       "24995   dog.7390.jpg      dog\n",
       "24996    dog.155.jpg      dog\n",
       "24997   dog.4236.jpg      dog\n",
       "24998  cat.12092.jpg      cat\n",
       "24999   cat.3357.jpg      cat\n",
       "\n",
       "[25000 rows x 2 columns]"
      ]
     },
     "execution_count": 44,
     "metadata": {},
     "output_type": "execute_result"
    }
   ],
   "source": [
    "df"
   ]
  },
  {
   "cell_type": "code",
   "execution_count": 5,
   "id": "ec0b5b8d",
   "metadata": {},
   "outputs": [],
   "source": [
    "df[\"category\"] = df[\"category\"].replace({0:'cat',1:'dog'})"
   ]
  },
  {
   "cell_type": "code",
   "execution_count": 6,
   "id": "0bc4b022",
   "metadata": {
    "scrolled": true
   },
   "outputs": [
    {
     "data": {
      "text/html": [
       "<div>\n",
       "<style scoped>\n",
       "    .dataframe tbody tr th:only-of-type {\n",
       "        vertical-align: middle;\n",
       "    }\n",
       "\n",
       "    .dataframe tbody tr th {\n",
       "        vertical-align: top;\n",
       "    }\n",
       "\n",
       "    .dataframe thead th {\n",
       "        text-align: right;\n",
       "    }\n",
       "</style>\n",
       "<table border=\"1\" class=\"dataframe\">\n",
       "  <thead>\n",
       "    <tr style=\"text-align: right;\">\n",
       "      <th></th>\n",
       "      <th>filename</th>\n",
       "      <th>category</th>\n",
       "    </tr>\n",
       "  </thead>\n",
       "  <tbody>\n",
       "    <tr>\n",
       "      <th>0</th>\n",
       "      <td>cat.11967.jpg</td>\n",
       "      <td>cat</td>\n",
       "    </tr>\n",
       "    <tr>\n",
       "      <th>1</th>\n",
       "      <td>dog.9761.jpg</td>\n",
       "      <td>dog</td>\n",
       "    </tr>\n",
       "    <tr>\n",
       "      <th>2</th>\n",
       "      <td>dog.2398.jpg</td>\n",
       "      <td>dog</td>\n",
       "    </tr>\n",
       "    <tr>\n",
       "      <th>3</th>\n",
       "      <td>dog.9612.jpg</td>\n",
       "      <td>dog</td>\n",
       "    </tr>\n",
       "    <tr>\n",
       "      <th>4</th>\n",
       "      <td>dog.6992.jpg</td>\n",
       "      <td>dog</td>\n",
       "    </tr>\n",
       "    <tr>\n",
       "      <th>...</th>\n",
       "      <td>...</td>\n",
       "      <td>...</td>\n",
       "    </tr>\n",
       "    <tr>\n",
       "      <th>24995</th>\n",
       "      <td>dog.7390.jpg</td>\n",
       "      <td>dog</td>\n",
       "    </tr>\n",
       "    <tr>\n",
       "      <th>24996</th>\n",
       "      <td>dog.155.jpg</td>\n",
       "      <td>dog</td>\n",
       "    </tr>\n",
       "    <tr>\n",
       "      <th>24997</th>\n",
       "      <td>dog.4236.jpg</td>\n",
       "      <td>dog</td>\n",
       "    </tr>\n",
       "    <tr>\n",
       "      <th>24998</th>\n",
       "      <td>cat.12092.jpg</td>\n",
       "      <td>cat</td>\n",
       "    </tr>\n",
       "    <tr>\n",
       "      <th>24999</th>\n",
       "      <td>cat.3357.jpg</td>\n",
       "      <td>cat</td>\n",
       "    </tr>\n",
       "  </tbody>\n",
       "</table>\n",
       "<p>25000 rows × 2 columns</p>\n",
       "</div>"
      ],
      "text/plain": [
       "            filename category\n",
       "0      cat.11967.jpg      cat\n",
       "1       dog.9761.jpg      dog\n",
       "2       dog.2398.jpg      dog\n",
       "3       dog.9612.jpg      dog\n",
       "4       dog.6992.jpg      dog\n",
       "...              ...      ...\n",
       "24995   dog.7390.jpg      dog\n",
       "24996    dog.155.jpg      dog\n",
       "24997   dog.4236.jpg      dog\n",
       "24998  cat.12092.jpg      cat\n",
       "24999   cat.3357.jpg      cat\n",
       "\n",
       "[25000 rows x 2 columns]"
      ]
     },
     "execution_count": 6,
     "metadata": {},
     "output_type": "execute_result"
    }
   ],
   "source": [
    "df"
   ]
  },
  {
   "cell_type": "markdown",
   "id": "85efb765",
   "metadata": {},
   "source": [
    "# Divide the datasets into train_df, test_df, validate_df"
   ]
  },
  {
   "cell_type": "code",
   "execution_count": 13,
   "id": "0c8286dc",
   "metadata": {
    "scrolled": true
   },
   "outputs": [],
   "source": [
    "train_df = df.loc[:22000]"
   ]
  },
  {
   "cell_type": "code",
   "execution_count": 14,
   "id": "5233b181",
   "metadata": {},
   "outputs": [
    {
     "data": {
      "text/plain": [
       "(22001, 2)"
      ]
     },
     "execution_count": 14,
     "metadata": {},
     "output_type": "execute_result"
    }
   ],
   "source": [
    "train_df.shape"
   ]
  },
  {
   "cell_type": "code",
   "execution_count": 15,
   "id": "9cd2779b",
   "metadata": {
    "scrolled": true
   },
   "outputs": [
    {
     "data": {
      "text/plain": [
       "<AxesSubplot:xlabel='category', ylabel='count'>"
      ]
     },
     "execution_count": 15,
     "metadata": {},
     "output_type": "execute_result"
    },
    {
     "data": {
      "image/png": "[encoded data removed]",
      "text/plain": [
       "<Figure size 432x288 with 1 Axes>"
      ]
     },
     "metadata": {
      "needs_background": "light"
     },
     "output_type": "display_data"
    }
   ],
   "source": [
    "sns.countplot(x ='category', data = train_df)"
   ]
  },
  {
   "cell_type": "code",
   "execution_count": 16,
   "id": "0c8b1998",
   "metadata": {
    "scrolled": false
   },
   "outputs": [
    {
     "data": {
      "text/html": [
       "<div>\n",
       "<style scoped>\n",
       "    .dataframe tbody tr th:only-of-type {\n",
       "        vertical-align: middle;\n",
       "    }\n",
       "\n",
       "    .dataframe tbody tr th {\n",
       "        vertical-align: top;\n",
       "    }\n",
       "\n",
       "    .dataframe thead th {\n",
       "        text-align: right;\n",
       "    }\n",
       "</style>\n",
       "<table border=\"1\" class=\"dataframe\">\n",
       "  <thead>\n",
       "    <tr style=\"text-align: right;\">\n",
       "      <th></th>\n",
       "      <th>filename</th>\n",
       "      <th>category</th>\n",
       "    </tr>\n",
       "  </thead>\n",
       "  <tbody>\n",
       "    <tr>\n",
       "      <th>0</th>\n",
       "      <td>cat.11967.jpg</td>\n",
       "      <td>cat</td>\n",
       "    </tr>\n",
       "    <tr>\n",
       "      <th>1</th>\n",
       "      <td>dog.9761.jpg</td>\n",
       "      <td>dog</td>\n",
       "    </tr>\n",
       "    <tr>\n",
       "      <th>2</th>\n",
       "      <td>dog.2398.jpg</td>\n",
       "      <td>dog</td>\n",
       "    </tr>\n",
       "    <tr>\n",
       "      <th>3</th>\n",
       "      <td>dog.9612.jpg</td>\n",
       "      <td>dog</td>\n",
       "    </tr>\n",
       "    <tr>\n",
       "      <th>4</th>\n",
       "      <td>dog.6992.jpg</td>\n",
       "      <td>dog</td>\n",
       "    </tr>\n",
       "    <tr>\n",
       "      <th>...</th>\n",
       "      <td>...</td>\n",
       "      <td>...</td>\n",
       "    </tr>\n",
       "    <tr>\n",
       "      <th>21996</th>\n",
       "      <td>dog.1014.jpg</td>\n",
       "      <td>dog</td>\n",
       "    </tr>\n",
       "    <tr>\n",
       "      <th>21997</th>\n",
       "      <td>dog.9490.jpg</td>\n",
       "      <td>dog</td>\n",
       "    </tr>\n",
       "    <tr>\n",
       "      <th>21998</th>\n",
       "      <td>dog.3532.jpg</td>\n",
       "      <td>dog</td>\n",
       "    </tr>\n",
       "    <tr>\n",
       "      <th>21999</th>\n",
       "      <td>cat.632.jpg</td>\n",
       "      <td>cat</td>\n",
       "    </tr>\n",
       "    <tr>\n",
       "      <th>22000</th>\n",
       "      <td>cat.9424.jpg</td>\n",
       "      <td>cat</td>\n",
       "    </tr>\n",
       "  </tbody>\n",
       "</table>\n",
       "<p>22001 rows × 2 columns</p>\n",
       "</div>"
      ],
      "text/plain": [
       "            filename category\n",
       "0      cat.11967.jpg      cat\n",
       "1       dog.9761.jpg      dog\n",
       "2       dog.2398.jpg      dog\n",
       "3       dog.9612.jpg      dog\n",
       "4       dog.6992.jpg      dog\n",
       "...              ...      ...\n",
       "21996   dog.1014.jpg      dog\n",
       "21997   dog.9490.jpg      dog\n",
       "21998   dog.3532.jpg      dog\n",
       "21999    cat.632.jpg      cat\n",
       "22000   cat.9424.jpg      cat\n",
       "\n",
       "[22001 rows x 2 columns]"
      ]
     },
     "execution_count": 16,
     "metadata": {},
     "output_type": "execute_result"
    }
   ],
   "source": [
    "train_df"
   ]
  },
  {
   "cell_type": "code",
   "execution_count": null,
   "id": "d54f1ee3",
   "metadata": {},
   "outputs": [],
   "source": [
    "plt.figure(figsize=(20,20))\n",
    "for i in range(2):\n",
    "  plt.subplots(1)\n",
    "  filename = '/data/NurulWorkspace/dogs-vs-cats/train/'+train_df['filename'][i]\n",
    "  image = imread(filename)\n",
    "  print('image shape', image .shape, 'maximum color level', image .max())\n",
    "  # plot raw pixel data\n",
    "  plt.imshow(image)"
   ]
  },
  {
   "cell_type": "code",
   "execution_count": 58,
   "id": "9d5e6782",
   "metadata": {},
   "outputs": [],
   "source": [
    "test_df = df.loc[22001:24000]"
   ]
  },
  {
   "cell_type": "code",
   "execution_count": 18,
   "id": "18ae924d",
   "metadata": {
    "scrolled": false
   },
   "outputs": [
    {
     "data": {
      "text/plain": [
       "(2000, 2)"
      ]
     },
     "execution_count": 18,
     "metadata": {},
     "output_type": "execute_result"
    }
   ],
   "source": [
    "test_df.shape"
   ]
  },
  {
   "cell_type": "code",
   "execution_count": 19,
   "id": "dd3caebe",
   "metadata": {},
   "outputs": [
    {
     "data": {
      "text/html": [
       "<div>\n",
       "<style scoped>\n",
       "    .dataframe tbody tr th:only-of-type {\n",
       "        vertical-align: middle;\n",
       "    }\n",
       "\n",
       "    .dataframe tbody tr th {\n",
       "        vertical-align: top;\n",
       "    }\n",
       "\n",
       "    .dataframe thead th {\n",
       "        text-align: right;\n",
       "    }\n",
       "</style>\n",
       "<table border=\"1\" class=\"dataframe\">\n",
       "  <thead>\n",
       "    <tr style=\"text-align: right;\">\n",
       "      <th></th>\n",
       "      <th>filename</th>\n",
       "      <th>category</th>\n",
       "    </tr>\n",
       "  </thead>\n",
       "  <tbody>\n",
       "    <tr>\n",
       "      <th>22001</th>\n",
       "      <td>dog.8675.jpg</td>\n",
       "      <td>dog</td>\n",
       "    </tr>\n",
       "    <tr>\n",
       "      <th>22002</th>\n",
       "      <td>cat.4647.jpg</td>\n",
       "      <td>cat</td>\n",
       "    </tr>\n",
       "    <tr>\n",
       "      <th>22003</th>\n",
       "      <td>dog.8104.jpg</td>\n",
       "      <td>dog</td>\n",
       "    </tr>\n",
       "    <tr>\n",
       "      <th>22004</th>\n",
       "      <td>cat.2333.jpg</td>\n",
       "      <td>cat</td>\n",
       "    </tr>\n",
       "    <tr>\n",
       "      <th>22005</th>\n",
       "      <td>dog.567.jpg</td>\n",
       "      <td>dog</td>\n",
       "    </tr>\n",
       "    <tr>\n",
       "      <th>...</th>\n",
       "      <td>...</td>\n",
       "      <td>...</td>\n",
       "    </tr>\n",
       "    <tr>\n",
       "      <th>23996</th>\n",
       "      <td>cat.678.jpg</td>\n",
       "      <td>cat</td>\n",
       "    </tr>\n",
       "    <tr>\n",
       "      <th>23997</th>\n",
       "      <td>cat.11408.jpg</td>\n",
       "      <td>cat</td>\n",
       "    </tr>\n",
       "    <tr>\n",
       "      <th>23998</th>\n",
       "      <td>dog.3668.jpg</td>\n",
       "      <td>dog</td>\n",
       "    </tr>\n",
       "    <tr>\n",
       "      <th>23999</th>\n",
       "      <td>dog.10921.jpg</td>\n",
       "      <td>dog</td>\n",
       "    </tr>\n",
       "    <tr>\n",
       "      <th>24000</th>\n",
       "      <td>cat.4644.jpg</td>\n",
       "      <td>cat</td>\n",
       "    </tr>\n",
       "  </tbody>\n",
       "</table>\n",
       "<p>2000 rows × 2 columns</p>\n",
       "</div>"
      ],
      "text/plain": [
       "            filename category\n",
       "22001   dog.8675.jpg      dog\n",
       "22002   cat.4647.jpg      cat\n",
       "22003   dog.8104.jpg      dog\n",
       "22004   cat.2333.jpg      cat\n",
       "22005    dog.567.jpg      dog\n",
       "...              ...      ...\n",
       "23996    cat.678.jpg      cat\n",
       "23997  cat.11408.jpg      cat\n",
       "23998   dog.3668.jpg      dog\n",
       "23999  dog.10921.jpg      dog\n",
       "24000   cat.4644.jpg      cat\n",
       "\n",
       "[2000 rows x 2 columns]"
      ]
     },
     "execution_count": 19,
     "metadata": {},
     "output_type": "execute_result"
    }
   ],
   "source": [
    "test_df"
   ]
  },
  {
   "cell_type": "code",
   "execution_count": 20,
   "id": "e3a9859e",
   "metadata": {
    "scrolled": true
   },
   "outputs": [
    {
     "data": {
      "text/plain": [
       "<AxesSubplot:xlabel='category', ylabel='count'>"
      ]
     },
     "execution_count": 20,
     "metadata": {},
     "output_type": "execute_result"
    },
    {
     "data": {
      "image/png": "[encoded data removed]",
      "text/plain": [
       "<Figure size 432x288 with 1 Axes>"
      ]
     },
     "metadata": {
      "needs_background": "light"
     },
     "output_type": "display_data"
    }
   ],
   "source": [
    "sns.countplot(x ='category', data = test_df)"
   ]
  },
  {
   "cell_type": "code",
   "execution_count": 21,
   "id": "52bc2700",
   "metadata": {},
   "outputs": [],
   "source": [
    "validate_df = df.loc[24001:24999]"
   ]
  },
  {
   "cell_type": "code",
   "execution_count": 45,
   "id": "b153fae6",
   "metadata": {},
   "outputs": [
    {
     "data": {
      "text/plain": [
       "(999, 2)"
      ]
     },
     "execution_count": 45,
     "metadata": {},
     "output_type": "execute_result"
    }
   ],
   "source": [
    "validate_df.shape"
   ]
  },
  {
   "cell_type": "markdown",
   "id": "9c2f0fe6",
   "metadata": {},
   "source": [
    "# Create data generators for the training and validation data"
   ]
  },
  {
   "cell_type": "code",
   "execution_count": 23,
   "id": "3d3c9e53",
   "metadata": {},
   "outputs": [
    {
     "name": "stdout",
     "output_type": "stream",
     "text": [
      "Found 22001 validated image filenames belonging to 2 classes.\n",
      "Found 999 validated image filenames belonging to 2 classes.\n"
     ]
    }
   ],
   "source": [
    "# Create data generators for the training and validation data\n",
    "train_datagen = ImageDataGenerator(rotation_range=15,\n",
    "                                rescale=1./255,\n",
    "                                shear_range=0.1,\n",
    "                                zoom_range=0.2,\n",
    "                                horizontal_flip=True,\n",
    "                                width_shift_range=0.1,\n",
    "                                height_shift_range=0.1\n",
    "                                )\n",
    "\n",
    "train_generator = train_datagen.flow_from_dataframe(train_df,\n",
    "                                                 \"train/\",x_col='filename',y_col='category',\n",
    "                                                 target_size=Image_Size,\n",
    "                                                 class_mode='categorical',\n",
    "                                                 batch_size=batch_size)\n",
    "\n",
    "validation_datagen = ImageDataGenerator(rescale=1./255)\n",
    "validation_generator = validation_datagen.flow_from_dataframe(\n",
    "    validate_df, \n",
    "    \"train/\", \n",
    "    x_col='filename',\n",
    "    y_col='category',\n",
    "    target_size=Image_Size,\n",
    "    class_mode='categorical',\n",
    "    batch_size=batch_size\n",
    ")"
   ]
  },
  {
   "cell_type": "markdown",
   "id": "c01cbaa5",
   "metadata": {},
   "source": [
    "# Creating a Basic CNN architecture "
   ]
  },
  {
   "cell_type": "code",
   "execution_count": 8,
   "id": "f679d4f4",
   "metadata": {},
   "outputs": [
    {
     "name": "stderr",
     "output_type": "stream",
     "text": [
      "2023-02-21 21:16:27.803139: I tensorflow/stream_executor/cuda/cuda_gpu_executor.cc:936] successful NUMA node read from SysFS had negative value (-1), but there must be at least one NUMA node, so returning NUMA node zero\n",
      "2023-02-21 21:16:27.826281: I tensorflow/stream_executor/cuda/cuda_gpu_executor.cc:936] successful NUMA node read from SysFS had negative value (-1), but there must be at least one NUMA node, so returning NUMA node zero\n",
      "2023-02-21 21:16:27.826433: I tensorflow/stream_executor/cuda/cuda_gpu_executor.cc:936] successful NUMA node read from SysFS had negative value (-1), but there must be at least one NUMA node, so returning NUMA node zero\n"
     ]
    },
    {
     "name": "stdout",
     "output_type": "stream",
     "text": [
      "Model: \"sequential\"\n",
      "_________________________________________________________________\n",
      " Layer (type)                Output Shape              Param #   \n",
      "=================================================================\n",
      " conv2d (Conv2D)             (None, 222, 222, 32)      896       \n",
      "                                                                 \n",
      " batch_normalization (BatchN  (None, 222, 222, 32)     128       \n",
      " ormalization)                                                   \n",
      "                                                                 \n",
      " max_pooling2d (MaxPooling2D  (None, 111, 111, 32)     0         \n",
      " )                                                               \n",
      "                                                                 \n",
      " dropout (Dropout)           (None, 111, 111, 32)      0         \n",
      "                                                                 \n",
      " conv2d_1 (Conv2D)           (None, 109, 109, 64)      18496     \n",
      "                                                                 \n",
      " batch_normalization_1 (Batc  (None, 109, 109, 64)     256       \n",
      " hNormalization)                                                 \n",
      "                                                                 \n",
      " max_pooling2d_1 (MaxPooling  (None, 54, 54, 64)       0         \n",
      " 2D)                                                             \n",
      "                                                                 \n",
      " dropout_1 (Dropout)         (None, 54, 54, 64)        0         \n",
      "                                                                 \n",
      " conv2d_2 (Conv2D)           (None, 52, 52, 128)       73856     \n",
      "                                                                 \n",
      " batch_normalization_2 (Batc  (None, 52, 52, 128)      512       \n",
      " hNormalization)                                                 \n",
      "                                                                 \n",
      " max_pooling2d_2 (MaxPooling  (None, 26, 26, 128)      0         \n",
      " 2D)                                                             \n",
      "                                                                 \n",
      " dropout_2 (Dropout)         (None, 26, 26, 128)       0         \n",
      "                                                                 \n",
      " flatten (Flatten)           (None, 86528)             0         \n",
      "                                                                 \n",
      " dense (Dense)               (None, 512)               44302848  \n",
      "                                                                 \n",
      " batch_normalization_3 (Batc  (None, 512)              2048      \n",
      " hNormalization)                                                 \n",
      "                                                                 \n",
      " dropout_3 (Dropout)         (None, 512)               0         \n",
      "                                                                 \n",
      " dense_1 (Dense)             (None, 2)                 1026      \n",
      "                                                                 \n",
      "=================================================================\n",
      "Total params: 44,400,066\n",
      "Trainable params: 44,398,594\n",
      "Non-trainable params: 1,472\n",
      "_________________________________________________________________\n"
     ]
    },
    {
     "name": "stderr",
     "output_type": "stream",
     "text": [
      "2023-02-21 21:16:27.827514: I tensorflow/core/platform/cpu_feature_guard.cc:151] This TensorFlow binary is optimized with oneAPI Deep Neural Network Library (oneDNN) to use the following CPU instructions in performance-critical operations:  AVX2 AVX512F FMA\n",
      "To enable them in other operations, rebuild TensorFlow with the appropriate compiler flags.\n",
      "2023-02-21 21:16:27.828359: I tensorflow/stream_executor/cuda/cuda_gpu_executor.cc:936] successful NUMA node read from SysFS had negative value (-1), but there must be at least one NUMA node, so returning NUMA node zero\n",
      "2023-02-21 21:16:27.828467: I tensorflow/stream_executor/cuda/cuda_gpu_executor.cc:936] successful NUMA node read from SysFS had negative value (-1), but there must be at least one NUMA node, so returning NUMA node zero\n",
      "2023-02-21 21:16:27.828546: I tensorflow/stream_executor/cuda/cuda_gpu_executor.cc:936] successful NUMA node read from SysFS had negative value (-1), but there must be at least one NUMA node, so returning NUMA node zero\n",
      "2023-02-21 21:16:28.140630: I tensorflow/stream_executor/cuda/cuda_gpu_executor.cc:936] successful NUMA node read from SysFS had negative value (-1), but there must be at least one NUMA node, so returning NUMA node zero\n",
      "2023-02-21 21:16:28.140760: I tensorflow/stream_executor/cuda/cuda_gpu_executor.cc:936] successful NUMA node read from SysFS had negative value (-1), but there must be at least one NUMA node, so returning NUMA node zero\n",
      "2023-02-21 21:16:28.140840: I tensorflow/stream_executor/cuda/cuda_gpu_executor.cc:936] successful NUMA node read from SysFS had negative value (-1), but there must be at least one NUMA node, so returning NUMA node zero\n",
      "2023-02-21 21:16:28.140934: I tensorflow/core/common_runtime/gpu/gpu_device.cc:1525] Created device /job:localhost/replica:0/task:0/device:GPU:0 with 14259 MB memory:  -> device: 0, name: NVIDIA GeForce RTX 3080 Laptop GPU, pci bus id: 0000:01:00.0, compute capability: 8.6\n"
     ]
    }
   ],
   "source": [
    "from keras.models import Sequential\n",
    "from keras.layers import Conv2D,MaxPooling2D,\\\n",
    "     Dropout,Flatten,Dense,Activation,\\\n",
    "     BatchNormalization\n",
    "\n",
    "model = Sequential()\n",
    "\n",
    "model.add(Conv2D(32, (3, 3), activation='relu', input_shape=(Image_Width, Image_Height, Image_Channels)))\n",
    "model.add(BatchNormalization())\n",
    "model.add(MaxPooling2D(pool_size=(2, 2)))\n",
    "model.add(Dropout(0.25))\n",
    "\n",
    "# Second convolutional layer\n",
    "model.add(Conv2D(64, (3, 3), activation='relu'))\n",
    "model.add(BatchNormalization())\n",
    "model.add(MaxPooling2D(pool_size=(2, 2)))\n",
    "model.add(Dropout(0.25))\n",
    "\n",
    "# Third convolutional layer\n",
    "model.add(Conv2D(128, (3, 3), activation='relu'))\n",
    "model.add(BatchNormalization())\n",
    "model.add(MaxPooling2D(pool_size=(2, 2)))\n",
    "model.add(Dropout(0.25))\n",
    "\n",
    "# Flatten layer\n",
    "model.add(Flatten())\n",
    "\n",
    "# Fully connected layer\n",
    "model.add(Dense(512, activation='relu'))\n",
    "model.add(BatchNormalization())\n",
    "model.add(Dropout(0.5))\n",
    "model.add(Dense(2, activation='softmax'))\n",
    "\n",
    "# Compile the model\n",
    "model.compile(loss='categorical_crossentropy', optimizer='rmsprop', metrics=['accuracy'])\n",
    "\n",
    "# Print the model summary\n",
    "model.summary()"
   ]
  },
  {
   "cell_type": "code",
   "execution_count": 10,
   "id": "552f4d3c",
   "metadata": {},
   "outputs": [],
   "source": [
    "from keras.callbacks import EarlyStopping, ReduceLROnPlateau\n",
    "earlystop = EarlyStopping(patience = 10)\n",
    "learning_rate_reduction = ReduceLROnPlateau(monitor = 'val_acc',patience = 2,verbose = 1,factor = 0.5,min_lr = 0.0001)\n",
    "callbacks = [earlystop,learning_rate_reduction]"
   ]
  },
  {
   "cell_type": "markdown",
   "id": "140dd83a",
   "metadata": {},
   "source": [
    "# Training the model"
   ]
  },
  {
   "cell_type": "code",
   "execution_count": 24,
   "id": "37ea9502",
   "metadata": {},
   "outputs": [
    {
     "name": "stdout",
     "output_type": "stream",
     "text": [
      "Epoch 1/90\n"
     ]
    },
    {
     "name": "stderr",
     "output_type": "stream",
     "text": [
      "2023-02-21 21:16:30.120271: I tensorflow/stream_executor/cuda/cuda_dnn.cc:368] Loaded cuDNN version 8600\n",
      "2023-02-21 21:16:30.741707: I tensorflow/stream_executor/cuda/cuda_blas.cc:1786] TensorFloat-32 will be used for the matrix multiplication. This will only be logged once.\n"
     ]
    },
    {
     "name": "stdout",
     "output_type": "stream",
     "text": [
      "688/688 [==============================] - 117s 167ms/step - loss: 0.7381 - accuracy: 0.6408 - val_loss: 0.5902 - val_accuracy: 0.6957\n",
      "Epoch 2/90\n",
      "688/688 [==============================] - 114s 165ms/step - loss: 0.5168 - accuracy: 0.7449 - val_loss: 0.4764 - val_accuracy: 0.7658\n",
      "Epoch 3/90\n",
      "688/688 [==============================] - 113s 164ms/step - loss: 0.4542 - accuracy: 0.7889 - val_loss: 0.4531 - val_accuracy: 0.7908\n",
      "Epoch 4/90\n",
      "688/688 [==============================] - 113s 165ms/step - loss: 0.4248 - accuracy: 0.8052 - val_loss: 0.4564 - val_accuracy: 0.7978\n",
      "Epoch 5/90\n",
      "688/688 [==============================] - 114s 165ms/step - loss: 0.3924 - accuracy: 0.8259 - val_loss: 0.4419 - val_accuracy: 0.8028\n",
      "Epoch 6/90\n",
      "688/688 [==============================] - 114s 166ms/step - loss: 0.3712 - accuracy: 0.8386 - val_loss: 0.4382 - val_accuracy: 0.8178\n",
      "Epoch 7/90\n",
      "688/688 [==============================] - 115s 168ms/step - loss: 0.3477 - accuracy: 0.8522 - val_loss: 0.3341 - val_accuracy: 0.8679\n",
      "Epoch 8/90\n",
      "688/688 [==============================] - 113s 164ms/step - loss: 0.3336 - accuracy: 0.8546 - val_loss: 0.2823 - val_accuracy: 0.8909\n",
      "Epoch 9/90\n",
      "688/688 [==============================] - 113s 165ms/step - loss: 0.3268 - accuracy: 0.8604 - val_loss: 0.5612 - val_accuracy: 0.7167\n",
      "Epoch 10/90\n",
      "688/688 [==============================] - 113s 165ms/step - loss: 0.3184 - accuracy: 0.8648 - val_loss: 0.2622 - val_accuracy: 0.8909\n",
      "Epoch 11/90\n",
      "688/688 [==============================] - 115s 167ms/step - loss: 0.3039 - accuracy: 0.8708 - val_loss: 0.2430 - val_accuracy: 0.8979\n",
      "Epoch 12/90\n",
      "688/688 [==============================] - 114s 165ms/step - loss: 0.3018 - accuracy: 0.8736 - val_loss: 0.2593 - val_accuracy: 0.8969\n",
      "Epoch 13/90\n",
      "688/688 [==============================] - 114s 165ms/step - loss: 0.2916 - accuracy: 0.8769 - val_loss: 0.3418 - val_accuracy: 0.8709\n",
      "Epoch 14/90\n",
      "688/688 [==============================] - 116s 169ms/step - loss: 0.2846 - accuracy: 0.8799 - val_loss: 0.2725 - val_accuracy: 0.8809\n",
      "Epoch 15/90\n",
      "688/688 [==============================] - 114s 166ms/step - loss: 0.2726 - accuracy: 0.8859 - val_loss: 0.2896 - val_accuracy: 0.8889\n",
      "Epoch 16/90\n",
      "688/688 [==============================] - 115s 167ms/step - loss: 0.2680 - accuracy: 0.8901 - val_loss: 0.2745 - val_accuracy: 0.8949\n",
      "Epoch 17/90\n",
      "688/688 [==============================] - 113s 165ms/step - loss: 0.2628 - accuracy: 0.8891 - val_loss: 0.2579 - val_accuracy: 0.9009\n",
      "Epoch 18/90\n",
      "688/688 [==============================] - 114s 165ms/step - loss: 0.2572 - accuracy: 0.8907 - val_loss: 0.6029 - val_accuracy: 0.7558\n",
      "Epoch 19/90\n",
      "688/688 [==============================] - 114s 166ms/step - loss: 0.2630 - accuracy: 0.8917 - val_loss: 0.3694 - val_accuracy: 0.8348\n",
      "Epoch 20/90\n",
      "688/688 [==============================] - 114s 165ms/step - loss: 0.2567 - accuracy: 0.8966 - val_loss: 0.2777 - val_accuracy: 0.8989\n",
      "Epoch 21/90\n",
      "688/688 [==============================] - 113s 164ms/step - loss: 0.2553 - accuracy: 0.8942 - val_loss: 0.3547 - val_accuracy: 0.8559\n",
      "Epoch 22/90\n",
      "688/688 [==============================] - 113s 164ms/step - loss: 0.2480 - accuracy: 0.8980 - val_loss: 0.2195 - val_accuracy: 0.9109\n",
      "Epoch 23/90\n",
      "688/688 [==============================] - 116s 168ms/step - loss: 0.2418 - accuracy: 0.9018 - val_loss: 0.2590 - val_accuracy: 0.9019\n",
      "Epoch 24/90\n",
      "688/688 [==============================] - 113s 164ms/step - loss: 0.2372 - accuracy: 0.9020 - val_loss: 0.3261 - val_accuracy: 0.8829\n",
      "Epoch 25/90\n",
      "688/688 [==============================] - 115s 166ms/step - loss: 0.2429 - accuracy: 0.9006 - val_loss: 0.2389 - val_accuracy: 0.9089\n",
      "Epoch 26/90\n",
      "688/688 [==============================] - 113s 165ms/step - loss: 0.2439 - accuracy: 0.9016 - val_loss: 0.2330 - val_accuracy: 0.9089\n",
      "Epoch 27/90\n",
      "688/688 [==============================] - 113s 164ms/step - loss: 0.2322 - accuracy: 0.9053 - val_loss: 0.2239 - val_accuracy: 0.9209\n",
      "Epoch 28/90\n",
      "688/688 [==============================] - 113s 164ms/step - loss: 0.2333 - accuracy: 0.9047 - val_loss: 0.1848 - val_accuracy: 0.9369\n",
      "Epoch 29/90\n",
      "688/688 [==============================] - 116s 168ms/step - loss: 0.2348 - accuracy: 0.9015 - val_loss: 0.2446 - val_accuracy: 0.8979\n",
      "Epoch 30/90\n",
      "688/688 [==============================] - 113s 164ms/step - loss: 0.2343 - accuracy: 0.9036 - val_loss: 0.2642 - val_accuracy: 0.9009\n",
      "Epoch 31/90\n",
      "688/688 [==============================] - 113s 164ms/step - loss: 0.2324 - accuracy: 0.9073 - val_loss: 0.2066 - val_accuracy: 0.9219\n",
      "Epoch 32/90\n",
      "688/688 [==============================] - 113s 165ms/step - loss: 0.2314 - accuracy: 0.9044 - val_loss: 0.2010 - val_accuracy: 0.9199\n",
      "Epoch 33/90\n",
      "688/688 [==============================] - 113s 165ms/step - loss: 0.2267 - accuracy: 0.9072 - val_loss: 0.3855 - val_accuracy: 0.8478\n",
      "Epoch 34/90\n",
      "688/688 [==============================] - 114s 165ms/step - loss: 0.2256 - accuracy: 0.9088 - val_loss: 0.4103 - val_accuracy: 0.8639\n",
      "Epoch 35/90\n",
      "688/688 [==============================] - 113s 165ms/step - loss: 0.2232 - accuracy: 0.9096 - val_loss: 0.2059 - val_accuracy: 0.9259\n",
      "Epoch 36/90\n",
      "688/688 [==============================] - 113s 165ms/step - loss: 0.2263 - accuracy: 0.9098 - val_loss: 0.2314 - val_accuracy: 0.9179\n",
      "Epoch 37/90\n",
      "688/688 [==============================] - 114s 166ms/step - loss: 0.2225 - accuracy: 0.9105 - val_loss: 0.2085 - val_accuracy: 0.9209\n",
      "Epoch 38/90\n",
      "688/688 [==============================] - 114s 165ms/step - loss: 0.2220 - accuracy: 0.9107 - val_loss: 0.1986 - val_accuracy: 0.9269\n",
      "Epoch 39/90\n",
      "688/688 [==============================] - 114s 165ms/step - loss: 0.2146 - accuracy: 0.9137 - val_loss: 0.1988 - val_accuracy: 0.9259\n",
      "Epoch 40/90\n",
      "688/688 [==============================] - 113s 164ms/step - loss: 0.2153 - accuracy: 0.9125 - val_loss: 0.2007 - val_accuracy: 0.9279\n",
      "Epoch 41/90\n",
      "688/688 [==============================] - 113s 164ms/step - loss: 0.2145 - accuracy: 0.9120 - val_loss: 0.3347 - val_accuracy: 0.8629\n",
      "Epoch 42/90\n",
      "688/688 [==============================] - 113s 165ms/step - loss: 0.2124 - accuracy: 0.9137 - val_loss: 0.1983 - val_accuracy: 0.9319\n",
      "Epoch 43/90\n",
      "688/688 [==============================] - 113s 165ms/step - loss: 0.2140 - accuracy: 0.9152 - val_loss: 0.1994 - val_accuracy: 0.9269\n",
      "Epoch 44/90\n",
      "688/688 [==============================] - 114s 166ms/step - loss: 0.2121 - accuracy: 0.9151 - val_loss: 0.2637 - val_accuracy: 0.8939\n",
      "Epoch 45/90\n",
      "688/688 [==============================] - 114s 165ms/step - loss: 0.2085 - accuracy: 0.9160 - val_loss: 0.2466 - val_accuracy: 0.9049\n",
      "Epoch 46/90\n",
      "688/688 [==============================] - 115s 168ms/step - loss: 0.2164 - accuracy: 0.9142 - val_loss: 0.1829 - val_accuracy: 0.9329\n",
      "Epoch 47/90\n",
      "688/688 [==============================] - 114s 166ms/step - loss: 0.2067 - accuracy: 0.9185 - val_loss: 0.2090 - val_accuracy: 0.9199\n",
      "Epoch 48/90\n",
      "688/688 [==============================] - 114s 165ms/step - loss: 0.2083 - accuracy: 0.9159 - val_loss: 0.4149 - val_accuracy: 0.8849\n",
      "Epoch 49/90\n",
      "688/688 [==============================] - 114s 165ms/step - loss: 0.2079 - accuracy: 0.9170 - val_loss: 0.3898 - val_accuracy: 0.8819\n",
      "Epoch 50/90\n",
      "688/688 [==============================] - 114s 165ms/step - loss: 0.2003 - accuracy: 0.9188 - val_loss: 0.3042 - val_accuracy: 0.8829\n",
      "Epoch 51/90\n",
      "688/688 [==============================] - 115s 168ms/step - loss: 0.2050 - accuracy: 0.9178 - val_loss: 0.1937 - val_accuracy: 0.9229\n",
      "Epoch 52/90\n",
      "688/688 [==============================] - 115s 168ms/step - loss: 0.1978 - accuracy: 0.9193 - val_loss: 0.4404 - val_accuracy: 0.8529\n",
      "Epoch 53/90\n",
      "688/688 [==============================] - 113s 164ms/step - loss: 0.2044 - accuracy: 0.9185 - val_loss: 0.2128 - val_accuracy: 0.9149\n",
      "Epoch 54/90\n",
      "688/688 [==============================] - 113s 164ms/step - loss: 0.2064 - accuracy: 0.9165 - val_loss: 0.2536 - val_accuracy: 0.9069\n",
      "Epoch 55/90\n",
      "688/688 [==============================] - 113s 165ms/step - loss: 0.1992 - accuracy: 0.9191 - val_loss: 0.1829 - val_accuracy: 0.9279\n",
      "Epoch 56/90\n",
      "688/688 [==============================] - 114s 165ms/step - loss: 0.1995 - accuracy: 0.9187 - val_loss: 0.2072 - val_accuracy: 0.9269\n",
      "Epoch 57/90\n",
      "688/688 [==============================] - 113s 164ms/step - loss: 0.1962 - accuracy: 0.9212 - val_loss: 0.1924 - val_accuracy: 0.9359\n",
      "Epoch 58/90\n",
      "688/688 [==============================] - 115s 167ms/step - loss: 0.2006 - accuracy: 0.9193 - val_loss: 0.1800 - val_accuracy: 0.9389\n",
      "Epoch 59/90\n",
      "688/688 [==============================] - 114s 166ms/step - loss: 0.1919 - accuracy: 0.9227 - val_loss: 0.2232 - val_accuracy: 0.9219\n",
      "Epoch 60/90\n",
      "688/688 [==============================] - 114s 165ms/step - loss: 0.2017 - accuracy: 0.9178 - val_loss: 0.2346 - val_accuracy: 0.9169\n",
      "Epoch 61/90\n",
      "688/688 [==============================] - 114s 166ms/step - loss: 0.1940 - accuracy: 0.9213 - val_loss: 0.1979 - val_accuracy: 0.9279\n",
      "Epoch 62/90\n",
      "688/688 [==============================] - 113s 164ms/step - loss: 0.1957 - accuracy: 0.9215 - val_loss: 0.2757 - val_accuracy: 0.8899\n",
      "Epoch 63/90\n",
      "688/688 [==============================] - 114s 166ms/step - loss: 0.1914 - accuracy: 0.9238 - val_loss: 0.2182 - val_accuracy: 0.9229\n",
      "Epoch 64/90\n",
      "688/688 [==============================] - 113s 164ms/step - loss: 0.1932 - accuracy: 0.9217 - val_loss: 0.1520 - val_accuracy: 0.9489\n",
      "Epoch 65/90\n",
      "688/688 [==============================] - 113s 165ms/step - loss: 0.1892 - accuracy: 0.9230 - val_loss: 0.2819 - val_accuracy: 0.8959\n",
      "Epoch 66/90\n",
      "688/688 [==============================] - 113s 165ms/step - loss: 0.1966 - accuracy: 0.9210 - val_loss: 0.1605 - val_accuracy: 0.9560\n",
      "Epoch 67/90\n",
      "688/688 [==============================] - 114s 166ms/step - loss: 0.1913 - accuracy: 0.9229 - val_loss: 0.2048 - val_accuracy: 0.9349\n",
      "Epoch 68/90\n",
      "688/688 [==============================] - 113s 164ms/step - loss: 0.1869 - accuracy: 0.9263 - val_loss: 0.2279 - val_accuracy: 0.9039\n",
      "Epoch 69/90\n",
      "688/688 [==============================] - 114s 165ms/step - loss: 0.1905 - accuracy: 0.9240 - val_loss: 0.1750 - val_accuracy: 0.9259\n",
      "Epoch 70/90\n",
      "688/688 [==============================] - 113s 164ms/step - loss: 0.1884 - accuracy: 0.9242 - val_loss: 0.1682 - val_accuracy: 0.9469\n",
      "Epoch 71/90\n",
      "688/688 [==============================] - 115s 167ms/step - loss: 0.1889 - accuracy: 0.9229 - val_loss: 0.1721 - val_accuracy: 0.9389\n",
      "Epoch 72/90\n",
      "688/688 [==============================] - 115s 166ms/step - loss: 0.1888 - accuracy: 0.9252 - val_loss: 0.3008 - val_accuracy: 0.8659\n",
      "Epoch 73/90\n",
      "688/688 [==============================] - 114s 165ms/step - loss: 0.1890 - accuracy: 0.9245 - val_loss: 0.1748 - val_accuracy: 0.9459\n",
      "Epoch 74/90\n",
      "688/688 [==============================] - 114s 165ms/step - loss: 0.1857 - accuracy: 0.9249 - val_loss: 0.1709 - val_accuracy: 0.9379\n",
      "Epoch 75/90\n",
      "688/688 [==============================] - 113s 165ms/step - loss: 0.1861 - accuracy: 0.9274 - val_loss: 0.2066 - val_accuracy: 0.9159\n",
      "Epoch 76/90\n",
      "688/688 [==============================] - 115s 167ms/step - loss: 0.1842 - accuracy: 0.9263 - val_loss: 0.3562 - val_accuracy: 0.8809\n",
      "Epoch 77/90\n",
      "688/688 [==============================] - 113s 164ms/step - loss: 0.1885 - accuracy: 0.9245 - val_loss: 0.2162 - val_accuracy: 0.9069\n",
      "Epoch 78/90\n",
      "688/688 [==============================] - 115s 167ms/step - loss: 0.1813 - accuracy: 0.9264 - val_loss: 0.2004 - val_accuracy: 0.9249\n",
      "Epoch 79/90\n",
      "688/688 [==============================] - 114s 165ms/step - loss: 0.1819 - accuracy: 0.9285 - val_loss: 0.1996 - val_accuracy: 0.9269\n",
      "Epoch 80/90\n",
      "688/688 [==============================] - 113s 165ms/step - loss: 0.1879 - accuracy: 0.9259 - val_loss: 0.1853 - val_accuracy: 0.9269\n",
      "Epoch 81/90\n",
      "688/688 [==============================] - 113s 165ms/step - loss: 0.1883 - accuracy: 0.9230 - val_loss: 0.1902 - val_accuracy: 0.9429\n",
      "Epoch 82/90\n",
      "688/688 [==============================] - 113s 164ms/step - loss: 0.1892 - accuracy: 0.9258 - val_loss: 0.1602 - val_accuracy: 0.9439\n",
      "Epoch 83/90\n",
      "688/688 [==============================] - 114s 165ms/step - loss: 0.1843 - accuracy: 0.9269 - val_loss: 0.2343 - val_accuracy: 0.9079\n",
      "Epoch 84/90\n",
      "688/688 [==============================] - 114s 166ms/step - loss: 0.1802 - accuracy: 0.9279 - val_loss: 0.1425 - val_accuracy: 0.9560\n",
      "Epoch 85/90\n",
      "688/688 [==============================] - 114s 166ms/step - loss: 0.1818 - accuracy: 0.9269 - val_loss: 0.2567 - val_accuracy: 0.9059\n",
      "Epoch 86/90\n",
      "688/688 [==============================] - 114s 165ms/step - loss: 0.1821 - accuracy: 0.9267 - val_loss: 0.1932 - val_accuracy: 0.9319\n",
      "Epoch 87/90\n",
      "688/688 [==============================] - 114s 166ms/step - loss: 0.1789 - accuracy: 0.9291 - val_loss: 0.1691 - val_accuracy: 0.9369\n",
      "Epoch 88/90\n",
      "688/688 [==============================] - 114s 165ms/step - loss: 0.1837 - accuracy: 0.9265 - val_loss: 0.1769 - val_accuracy: 0.9369\n",
      "Epoch 89/90\n",
      "688/688 [==============================] - 112s 163ms/step - loss: 0.1768 - accuracy: 0.9301 - val_loss: 0.1751 - val_accuracy: 0.9389\n",
      "Epoch 90/90\n",
      "688/688 [==============================] - 114s 165ms/step - loss: 0.1820 - accuracy: 0.9283 - val_loss: 0.1711 - val_accuracy: 0.9299\n"
     ]
    }
   ],
   "source": [
    "epochs= 90\n",
    "history = model.fit(\n",
    "    train_generator, \n",
    "    epochs = epochs,\n",
    "    validation_data=validation_generator,\n",
    "    #callbacks=callbacks\n",
    ")"
   ]
  },
  {
   "cell_type": "code",
   "execution_count": 46,
   "id": "fa64e837",
   "metadata": {},
   "outputs": [],
   "source": [
    "model.save(\"Data_Cats_vs_Dogs_Classification_25K_Images.h5\")"
   ]
  },
  {
   "cell_type": "markdown",
   "id": "6d9bd92b",
   "metadata": {},
   "source": [
    "# Plotting the accuracy and loss curve for the training phase per each epoch."
   ]
  },
  {
   "cell_type": "code",
   "execution_count": 27,
   "id": "8a67f59c",
   "metadata": {
    "scrolled": false
   },
   "outputs": [
    {
     "data": {
      "image/png": "[encoded data removed]",
      "text/plain": [
       "<Figure size 576x576 with 2 Axes>"
      ]
     },
     "metadata": {
      "needs_background": "light"
     },
     "output_type": "display_data"
    }
   ],
   "source": [
    "acc = history.history['accuracy']\n",
    "val_acc = history.history['val_accuracy']\n",
    "\n",
    "loss = history.history['loss']\n",
    "val_loss = history.history['val_loss']\n",
    "\n",
    "epochs_range = range(epochs)\n",
    "\n",
    "plt.figure(figsize=(8, 8))\n",
    "plt.subplot(1, 2, 1)\n",
    "plt.plot(epochs_range, acc, label='Training Accuracy')\n",
    "#plt.plot(epochs_range, val_acc, label='Validation Accuracy')\n",
    "plt.legend(loc='lower right')\n",
    "plt.title('Training and Validation Accuracy')\n",
    "\n",
    "plt.subplot(1, 2, 2)\n",
    "plt.plot(epochs_range, loss, label='Training Loss')\n",
    "#plt.plot(epochs_range, val_loss, label='Validation Loss')\n",
    "plt.legend(loc='upper right')\n",
    "plt.title('Training and Validation Loss')\n",
    "plt.show()"
   ]
  },
  {
   "cell_type": "markdown",
   "id": "4b0446d1",
   "metadata": {},
   "source": [
    "# Create data generators for the test data"
   ]
  },
  {
   "cell_type": "code",
   "execution_count": 28,
   "id": "9cc1f72d",
   "metadata": {},
   "outputs": [
    {
     "name": "stdout",
     "output_type": "stream",
     "text": [
      "Found 2000 validated image filenames belonging to 2 classes.\n"
     ]
    }
   ],
   "source": [
    "\n",
    "test_datagen = ImageDataGenerator(rotation_range=15,\n",
    "                                rescale=1./255,\n",
    "                                shear_range=0.1,\n",
    "                                zoom_range=0.2,\n",
    "                                horizontal_flip=True,\n",
    "                                width_shift_range=0.1,\n",
    "                                height_shift_range=0.1)\n",
    "\n",
    "test_generator = train_datagen.flow_from_dataframe(test_df,\n",
    "                                            \"train/\", x_col= 'filename', y_col='category',\n",
    "                                            target_size=Image_Size,\n",
    "                                            class_mode= 'categorical',\n",
    "                                            shuffle = False,\n",
    "                                            batch_size=batch_size\n",
    "                                            )"
   ]
  },
  {
   "cell_type": "code",
   "execution_count": 30,
   "id": "caff0daf",
   "metadata": {
    "scrolled": false
   },
   "outputs": [
    {
     "data": {
      "text/plain": [
       "22001    dog\n",
       "22002    cat\n",
       "22003    dog\n",
       "22004    cat\n",
       "22005    dog\n",
       "        ... \n",
       "23996    cat\n",
       "23997    cat\n",
       "23998    dog\n",
       "23999    dog\n",
       "24000    cat\n",
       "Name: category, Length: 2000, dtype: object"
      ]
     },
     "execution_count": 30,
     "metadata": {},
     "output_type": "execute_result"
    }
   ],
   "source": [
    "test_df['category']"
   ]
  },
  {
   "cell_type": "code",
   "execution_count": null,
   "id": "2cd2fc03",
   "metadata": {},
   "outputs": [],
   "source": [
    "sns.countplot(x ='category', data = test_df)"
   ]
  },
  {
   "cell_type": "code",
   "execution_count": 31,
   "id": "2ed00946",
   "metadata": {},
   "outputs": [
    {
     "name": "stdout",
     "output_type": "stream",
     "text": [
      "[[990  46]\n",
      " [106 858]]\n"
     ]
    }
   ],
   "source": [
    "from sklearn.metrics import confusion_matrix\n",
    "# Generate predictions for the test data\n",
    "predictions = model.predict(test_generator)\n",
    "\n",
    "# Convert the predictions from one-hot encoding to class labels\n",
    "predicted_classes = np.argmax(predictions, axis=1)\n",
    "\n",
    "# Get the true classes of the test data\n",
    "true_classes = test_generator.classes\n",
    "\n",
    "# Calculate the confusion matrix\n",
    "cm = confusion_matrix(true_classes, predicted_classes)\n",
    "print(cm)"
   ]
  },
  {
   "cell_type": "code",
   "execution_count": 32,
   "id": "e2573b87",
   "metadata": {},
   "outputs": [
    {
     "name": "stdout",
     "output_type": "stream",
     "text": [
      "              precision    recall  f1-score   support\n",
      "\n",
      "           0       0.90      0.96      0.93      1036\n",
      "           1       0.95      0.89      0.92       964\n",
      "\n",
      "    accuracy                           0.92      2000\n",
      "   macro avg       0.93      0.92      0.92      2000\n",
      "weighted avg       0.93      0.92      0.92      2000\n",
      "\n"
     ]
    }
   ],
   "source": [
    "from sklearn.metrics import classification_report\n",
    "print(classification_report(true_classes, predicted_classes))"
   ]
  },
  {
   "cell_type": "code",
   "execution_count": 59,
   "id": "d9066af2",
   "metadata": {},
   "outputs": [
    {
     "name": "stdout",
     "output_type": "stream",
     "text": [
      "32/32 [==============================] - 5s 147ms/step - loss: 0.6125 - accuracy: 0.7060\n",
      "Accuracy: 0.7059999704360962\n"
     ]
    }
   ],
   "source": [
    "loss, accuracy = model.evaluate(test_generator)\n",
    "\n",
    "# Print the overall accuracy\n",
    "print(\"Accuracy:\", accuracy)"
   ]
  }
 ],
 "metadata": {
  "kernelspec": {
   "display_name": "Python 3 (ipykernel)",
   "language": "python",
   "name": "python3"
  },
  "language_info": {
   "codemirror_mode": {
    "name": "ipython",
    "version": 3
   },
   "file_extension": ".py",
   "mimetype": "text/x-python",
   "name": "python",
   "nbconvert_exporter": "python",
   "pygments_lexer": "ipython3",
   "version": "3.10.6"
  },
  "toc": {
   "base_numbering": 1,
   "nav_menu": {},
   "number_sections": true,
   "sideBar": true,
   "skip_h1_title": false,
   "title_cell": "Table of Contents",
   "title_sidebar": "Contents",
   "toc_cell": false,
   "toc_position": {},
   "toc_section_display": true,
   "toc_window_display": false
  }
 },
 "nbformat": 4,
 "nbformat_minor": 5
}
